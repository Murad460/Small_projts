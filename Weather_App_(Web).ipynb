{
  "nbformat": 4,
  "nbformat_minor": 0,
  "metadata": {
    "colab": {
      "provenance": [],
      "authorship_tag": "ABX9TyN4rnsaBKsQRoJhb4nNHzxy",
      "include_colab_link": true
    },
    "kernelspec": {
      "name": "python3",
      "display_name": "Python 3"
    },
    "language_info": {
      "name": "python"
    }
  },
  "cells": [
    {
      "cell_type": "markdown",
      "metadata": {
        "id": "view-in-github",
        "colab_type": "text"
      },
      "source": [
        "<a href=\"https://colab.research.google.com/github/Murad460/OOPS_algo/blob/main/Weather_App_(Web).ipynb\" target=\"_parent\"><img src=\"https://colab.research.google.com/assets/colab-badge.svg\" alt=\"Open In Colab\"/></a>"
      ]
    },
    {
      "cell_type": "code",
      "execution_count": 9,
      "metadata": {
        "id": "a4uuAe_8hQ7u"
      },
      "outputs": [],
      "source": [
        "import requests\n",
        "api=\"d64cfe0dbd0ea1a76f07eeb79f47952e\"\n",
        "data=requests.get(\"http://api.openweathermap.org/geo/1.0/zip?zip=E14,GB&appid={api}\")"
      ]
    },
    {
      "cell_type": "code",
      "source": [
        "import requests\n",
        "\n",
        "api_key = \"d64cfe0dbd0ea1a76f07eeb79f47952e\"  # Use your real API key here\n",
        "url = f\"http://api.openweathermap.org/geo/1.0/zip?zip=E14,GB&appid={api_key}\"\n",
        "\n",
        "response = requests.get(url)\n",
        "\n",
        "if response.status_code == 200:\n",
        "    data = response.json()\n",
        "    print(data)\n",
        "else:\n",
        "    print(\"Error:\", response.status_code, response.text)\n"
      ],
      "metadata": {
        "colab": {
          "base_uri": "https://localhost:8080/"
        },
        "id": "5DwpYS3ZhRy4",
        "outputId": "81b15f52-b3f9-4a78-b13e-ba15f1164783"
      },
      "execution_count": 11,
      "outputs": [
        {
          "output_type": "stream",
          "name": "stdout",
          "text": [
            "{'zip': 'E14', 'name': 'London', 'lat': 51.4969, 'lon': -0.0087, 'country': 'GB'}\n"
          ]
        }
      ]
    },
    {
      "cell_type": "code",
      "source": [],
      "metadata": {
        "id": "rT6IL5BplAxf"
      },
      "execution_count": null,
      "outputs": []
    },
    {
      "cell_type": "code",
      "source": [],
      "metadata": {
        "id": "SNAPTmW3lAt0"
      },
      "execution_count": null,
      "outputs": []
    },
    {
      "cell_type": "code",
      "source": [
        "uri=f\"https://api.openweathermap.org/data/2.5/weather?lat={33.1457}&lon={75.5480}&appid={api_key}\"\n",
        "url2=requests.get(uri)\n",
        "if url2.status_code == 200:\n",
        "    data = url2.json()\n",
        "    print(data['weather'])\n",
        "else:\n",
        "    print(\"Error:\", url2.status_code, url2.text)"
      ],
      "metadata": {
        "colab": {
          "base_uri": "https://localhost:8080/"
        },
        "id": "SPeurxazhwU7",
        "outputId": "ce2b12db-4f4c-4cb3-dcbc-d8d260e08c85"
      },
      "execution_count": 19,
      "outputs": [
        {
          "output_type": "stream",
          "name": "stdout",
          "text": [
            "[{'id': 802, 'main': 'Clouds', 'description': 'scattered clouds', 'icon': '03n'}]\n"
          ]
        }
      ]
    },
    {
      "cell_type": "code",
      "source": [],
      "metadata": {
        "id": "knRKh-6ckEvU"
      },
      "execution_count": null,
      "outputs": []
    }
  ]
}