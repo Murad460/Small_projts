{
  "nbformat": 4,
  "nbformat_minor": 0,
  "metadata": {
    "colab": {
      "provenance": [],
      "authorship_tag": "ABX9TyNNhDK2/6Qy3DHsL27S88Tf",
      "include_colab_link": true
    },
    "kernelspec": {
      "name": "python3",
      "display_name": "Python 3"
    },
    "language_info": {
      "name": "python"
    }
  },
  "cells": [
    {
      "cell_type": "markdown",
      "metadata": {
        "id": "view-in-github",
        "colab_type": "text"
      },
      "source": [
        "<a href=\"https://colab.research.google.com/github/Murad460/OOPS_algo/blob/main/Currency_Converter_(using_an_API).ipynb\" target=\"_parent\"><img src=\"https://colab.research.google.com/assets/colab-badge.svg\" alt=\"Open In Colab\"/></a>"
      ]
    },
    {
      "cell_type": "code",
      "execution_count": 3,
      "metadata": {
        "colab": {
          "base_uri": "https://localhost:8080/"
        },
        "id": "SCFW7P5feVz2",
        "outputId": "b8618f90-7bff-4eb9-c46a-94d625e02af5"
      },
      "outputs": [
        {
          "output_type": "stream",
          "name": "stdout",
          "text": [
            "{'result': 'success', 'documentation': 'https://www.exchangerate-api.com/docs', 'terms_of_use': 'https://www.exchangerate-api.com/terms', 'time_last_update_unix': 1754179202, 'time_last_update_utc': 'Sun, 03 Aug 2025 00:00:02 +0000', 'time_next_update_unix': 1754265602, 'time_next_update_utc': 'Mon, 04 Aug 2025 00:00:02 +0000', 'base_code': 'USD', 'conversion_rates': {'USD': 1, 'AED': 3.6725, 'AFN': 68.7934, 'ALL': 85.0903, 'AMD': 383.7621, 'ANG': 1.79, 'AOA': 916.1687, 'ARS': 1361.33, 'AUD': 1.5502, 'AWG': 1.79, 'AZN': 1.7002, 'BAM': 1.6991, 'BBD': 2.0, 'BDT': 122.3325, 'BGN': 1.6996, 'BHD': 0.376, 'BIF': 2958.9552, 'BMD': 1.0, 'BND': 1.2938, 'BOB': 6.9219, 'BRL': 5.6044, 'BSD': 1.0, 'BTN': 87.4386, 'BWP': 13.8923, 'BYN': 3.0931, 'BZD': 2.0, 'CAD': 1.3802, 'CDF': 2883.2317, 'CHF': 0.8085, 'CLP': 976.0607, 'CNY': 7.204, 'COP': 4172.21, 'CRC': 505.4533, 'CUP': 24.0, 'CVE': 95.789, 'CZK': 21.3755, 'DJF': 177.721, 'DKK': 6.4788, 'DOP': 60.9446, 'DZD': 130.6656, 'EGP': 48.6634, 'ERN': 15.0, 'ETB': 137.6886, 'EUR': 0.8688, 'FJD': 2.2664, 'FKP': 0.7546, 'FOK': 6.4788, 'GBP': 0.7546, 'GEL': 2.7048, 'GGP': 0.7546, 'GHS': 10.9941, 'GIP': 0.7546, 'GMD': 72.8354, 'GNF': 8692.0061, 'GTQ': 7.6763, 'GYD': 209.2923, 'HKD': 7.8497, 'HNL': 26.2863, 'HRK': 6.5453, 'HTG': 130.9575, 'HUF': 347.0551, 'IDR': 16455.2735, 'ILS': 3.4113, 'IMP': 0.7546, 'INR': 87.4485, 'IQD': 1308.8689, 'IRR': 42252.292, 'ISK': 124.6406, 'JEP': 0.7546, 'JMD': 160.0863, 'JOD': 0.709, 'JPY': 148.3526, 'KES': 129.0827, 'KGS': 87.2119, 'KHR': 4017.3328, 'KID': 1.5482, 'KMF': 427.3806, 'KRW': 1394.21, 'KWD': 0.306, 'KYD': 0.8333, 'KZT': 542.274, 'LAK': 21703.8822, 'LBP': 89500.0, 'LKR': 301.7177, 'LRD': 200.651, 'LSL': 18.0819, 'LYD': 5.4436, 'MAD': 9.0969, 'MDL': 17.0948, 'MGA': 4445.092, 'MKD': 53.8707, 'MMK': 2097.4713, 'MNT': 3571.8989, 'MOP': 8.0852, 'MRU': 40.0479, 'MUR': 46.4121, 'MVR': 15.4419, 'MWK': 1745.5057, 'MXN': 18.8827, 'MYR': 4.2756, 'MZN': 63.4886, 'NAD': 18.0819, 'NGN': 1530.1649, 'NIO': 36.7943, 'NOK': 10.2587, 'NPR': 139.9018, 'NZD': 1.6935, 'OMR': 0.3845, 'PAB': 1.0, 'PEN': 3.5774, 'PGK': 4.1675, 'PHP': 58.0741, 'PKR': 283.5752, 'PLN': 3.7165, 'PYG': 7537.38, 'QAR': 3.64, 'RON': 4.4381, 'RSD': 101.6319, 'RUB': 80.2374, 'RWF': 1448.5552, 'SAR': 3.75, 'SBD': 8.1922, 'SCR': 14.6863, 'SDG': 509.3465, 'SEK': 9.6835, 'SGD': 1.2933, 'SHP': 0.7546, 'SLE': 22.9628, 'SLL': 22962.7565, 'SOS': 571.8422, 'SRD': 36.7765, 'SSP': 4667.5138, 'STN': 21.2836, 'SYP': 12901.7672, 'SZL': 18.0819, 'THB': 32.7142, 'TJS': 9.6171, 'TMT': 3.5003, 'TND': 2.9117, 'TOP': 2.3846, 'TRY': 40.6789, 'TTD': 6.7675, 'TVD': 1.5482, 'TWD': 29.7465, 'TZS': 2535.1343, 'UAH': 41.7785, 'UGX': 3569.6828, 'UYU': 40.0736, 'UZS': 12696.005, 'VES': 126.2802, 'VND': 26144.9875, 'VUV': 119.505, 'WST': 2.7541, 'XAF': 569.8408, 'XCD': 2.7, 'XCG': 1.79, 'XDR': 0.7398, 'XOF': 569.8408, 'XPF': 103.6657, 'YER': 240.5149, 'ZAR': 18.0823, 'ZMW': 22.9273, 'ZWL': 26.7906}}\n"
          ]
        }
      ],
      "source": [
        "import requests\n",
        "\n",
        "# Where USD is the base currency you want to use\n",
        "# change the last 3 letter with currecy that's converstion you want like ERO\n",
        "url = 'https://v6.exchangerate-api.com/v6/8836e75eb6d26ad26ce5944a/latest/USD'\n",
        "\n",
        "# Making our request\n",
        "response = requests.get(url)\n",
        "data = response.json()\n",
        "\n",
        "# Your JSON object\n",
        "print (data)"
      ]
    },
    {
      "cell_type": "code",
      "source": [
        "dict_data=data['conversion_rates']\n",
        "dict_data['INR']"
      ],
      "metadata": {
        "colab": {
          "base_uri": "https://localhost:8080/"
        },
        "id": "tbuBph-SedFg",
        "outputId": "9aa81420-9b4b-41e9-e2a9-1401f0973917"
      },
      "execution_count": 9,
      "outputs": [
        {
          "output_type": "execute_result",
          "data": {
            "text/plain": [
              "87.4485"
            ]
          },
          "metadata": {},
          "execution_count": 9
        }
      ]
    },
    {
      "cell_type": "code",
      "source": [],
      "metadata": {
        "id": "AcQAUIVze05y"
      },
      "execution_count": null,
      "outputs": []
    }
  ]
}