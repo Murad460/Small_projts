{
  "nbformat": 4,
  "nbformat_minor": 0,
  "metadata": {
    "colab": {
      "provenance": [],
      "authorship_tag": "ABX9TyNG2o1TceNpX3OLx/gBUXNf",
      "include_colab_link": true
    },
    "kernelspec": {
      "name": "python3",
      "display_name": "Python 3"
    },
    "language_info": {
      "name": "python"
    }
  },
  "cells": [
    {
      "cell_type": "markdown",
      "metadata": {
        "id": "view-in-github",
        "colab_type": "text"
      },
      "source": [
        "<a href=\"https://colab.research.google.com/github/Murad460/Small_projts/blob/main/pypdf.ipynb\" target=\"_parent\"><img src=\"https://colab.research.google.com/assets/colab-badge.svg\" alt=\"Open In Colab\"/></a>"
      ]
    },
    {
      "cell_type": "code",
      "execution_count": 24,
      "metadata": {
        "colab": {
          "base_uri": "https://localhost:8080/",
          "height": 324
        },
        "id": "H4t-X-zIjpzB",
        "outputId": "d9d7087b-169a-43bc-ed5a-6ebfbca013f8"
      },
      "outputs": [
        {
          "output_type": "stream",
          "name": "stdout",
          "text": [
            "Requirement already satisfied: pypdf in /root/.local/lib/python3.11/site-packages (6.0.0)\n",
            "Collecting pdfminer.six\n",
            "  Downloading pdfminer_six-20250506-py3-none-any.whl.metadata (4.2 kB)\n",
            "Requirement already satisfied: charset-normalizer>=2.0.0 in /usr/local/lib/python3.11/dist-packages (from pdfminer.six) (3.4.2)\n",
            "Requirement already satisfied: cryptography>=36.0.0 in /usr/local/lib/python3.11/dist-packages (from pdfminer.six) (43.0.3)\n",
            "Requirement already satisfied: cffi>=1.12 in /usr/local/lib/python3.11/dist-packages (from cryptography>=36.0.0->pdfminer.six) (1.17.1)\n",
            "Requirement already satisfied: pycparser in /usr/local/lib/python3.11/dist-packages (from cffi>=1.12->cryptography>=36.0.0->pdfminer.six) (2.22)\n",
            "Downloading pdfminer_six-20250506-py3-none-any.whl (5.6 MB)\n",
            "\u001b[2K   \u001b[90m━━━━━━━━━━━━━━━━━━━━━━━━━━━━━━━━━━━━━━━━\u001b[0m \u001b[32m5.6/5.6 MB\u001b[0m \u001b[31m27.7 MB/s\u001b[0m eta \u001b[36m0:00:00\u001b[0m\n",
            "\u001b[?25hInstalling collected packages: pdfminer.six\n",
            "Successfully installed pdfminer.six-20250506\n"
          ]
        },
        {
          "output_type": "display_data",
          "data": {
            "application/vnd.colab-display-data+json": {
              "pip_warning": {
                "packages": [
                  "pdfminer"
                ]
              },
              "id": "fd2bad8cd4d447c3976e9ca29b42eab3"
            }
          },
          "metadata": {}
        }
      ],
      "source": [
        "%pip install --upgrade pypdf  pdfminer.six\n"
      ]
    },
    {
      "cell_type": "code",
      "source": [
        "import logging\n",
        "\n",
        "logger = logging.getLogger(\"pypdf\")\n",
        "logger.setLevel(logging.ERROR)"
      ],
      "metadata": {
        "id": "KxJzlxlpoOkq"
      },
      "execution_count": 28,
      "outputs": []
    },
    {
      "cell_type": "code",
      "source": [
        "import warnings\n",
        "\n",
        "warnings.filterwarnings(\"ignore\")"
      ],
      "metadata": {
        "id": "ts06aTZVoPdI"
      },
      "execution_count": 29,
      "outputs": []
    },
    {
      "cell_type": "code",
      "source": [
        "pdf_path=\"/content/Certification Criteria - AI(LLMs, GenAI, Agents)  (2).pdf\""
      ],
      "metadata": {
        "id": "9s1qRU24oyMc"
      },
      "execution_count": 35,
      "outputs": []
    },
    {
      "cell_type": "code",
      "source": [
        "import sys\n",
        "sys.path.append(\"/root/.local/lib/python3.11/site-packages\")\n",
        "sys.path.append(\"/root/.local/lib/python3.11/dist-packages\")\n",
        "\n",
        "\n",
        "from pypdf import PdfReader\n",
        "from pdfminer.high_level import extract_text as fallback_text_extraction\n",
        "\n",
        "text = \"\"\n",
        "try:\n",
        "    reader = PdfReader(\"/content/Certification Criteria - AI(LLMs, GenAI, Agents)  (2).pdf\")\n",
        "    for page in reader.pages:\n",
        "        text += page.extract_text()\n",
        "except Exception as exc:\n",
        "    text = fallback_text_extraction(\"/content/Certification Criteria - AI(LLMs, GenAI, Agents)  (2).pdf\")"
      ],
      "metadata": {
        "id": "PdtIMX-hjvXc"
      },
      "execution_count": 30,
      "outputs": []
    },
    {
      "cell_type": "code",
      "source": [
        "print(text.strip().split())\n"
      ],
      "metadata": {
        "colab": {
          "base_uri": "https://localhost:8080/"
        },
        "id": "cXMk4ALEknpa",
        "outputId": "6503be0b-5575-4c61-a19d-8bcc62bc056e"
      },
      "execution_count": 43,
      "outputs": [
        {
          "output_type": "stream",
          "name": "stdout",
          "text": [
            "['Certification', 'Criteria', 'Certification', 'Criteria', '●', 'N8N', '○', 'Level', 'I', 'and', 'Level', 'II', '○', 'N8N', '+', 'Gemini,', 'N8N+whatsapp/Telegram,', 'N8N+Vapi', '●', 'Hugging', 'Face', 'Courses', '○', 'LLM', 'Course', '○', 'Agents', 'Course', '●', 'Deeplearning.ai', '○', 'Vibe', 'Coding', '○', 'How', 'Transformer', 'LLMs', 'work', '●', 'Complete', 'this', 'youtube', 'video:', 'Link', '●', 'Telegram', 'BoT', 'with', 'Asyncio', '●', 'Group', 'Presentation', '(only', 'task', 'to', 'be', 'done', 'in', 'a', 'group)', '○', 'Record', 'your', 'ppt', 'in', 'group', 'assigned', '■', 'Upload', 'the', 'recorded', 'video', 'in', 'a', 'drive', '■', 'Form', 'will', 'be', 'shared', 'to', 'collect', 'the', 'link.', '●', 'Crewai', '○', 'Documentation', 'example', '●', 'Projects', 'to', 'be', 'submitted', 'along', 'with', 'the', 'a)', 'Description', 'video,', 'b)', 'Github', 'link', '&', 'c)', 'Linkedin', 'post', 'link.', '○', 'Multiagent', 'multiworkflow', 'in', 'N8N', '○', 'Openai', 'Agents', '○', 'Crewai', 'Multiagent', '●', 'Internship', 'Report', 'in', 'PDF', '&', 'PPT', '●', 'Complete', 'Resumé', 'Link', '[where', 'all', 'these', 'projects', 'and', 'certifications', 'are', 'added].', '(For', 'this,', 'you', 'can', 'make', 'your', 'complete', 'profile', 'on', 'techible.io)', 'Note:', '1.', 'All', 'the', 'projects', 'are', 'to', 'be', 'done', 'individually.', '2.', 'Only', 'Group', 'Presentation', 'to', 'be', 'delivered', 'in', 'a', 'group.', '3.', 'It', 'is', 'compulsory', 'to', 'complete', 'all', 'the', 'tasks.', '4.', 'Project', 'ideas', 'are', 'added', 'in', 'other', 'tabs.', '5.', 'You', 'can', 'also', 'work', 'on', 'your', 'own', 'ideas(first', 'take', 'approval', 'in', 'that', 'case).', '6.', 'Make', 'sure', 'to', 'integrate', 'UI/Gradio', 'in', 'the', 'projects', 'N8N', 'Projects', 'Ideas', '1.', 'AI-Powered', 'Job', 'Alert', 'System', 'Description', ':', 'Scrapes', 'jobs', 'from', 'LinkedIn/Indeed,', 'filters', 'based', 'on', 'user', 'skills,', 'summarizes', 'using', 'OpenAI,', 'and', 'sends', 'daily', 'alerts', 'via', 'email', 'or', 'WhatsApp.', 'Tools', ':', 'RSS,', 'OpenAI,', 'Google', 'Sheets,', 'Gmail/WhatsApp', 'API', '2.', 'Auto', 'Client', 'Onboarding', 'Workflow', 'Description', ':', 'Automates', 'the', 'client', 'onboarding', 'process', 'from', 'first', 'contact', 'to', 'setup.', 'When', 'a', 'new', 'client', 'submits', 'a', 'form', 'or', 'sends', 'an', 'inquiry', 'email,', 'n8n', 'triggers', 'a', 'series', 'of', 'workflows:', 'creates', 'a', 'CRM', 'entry,', 'sends', 'a', 'welcome', 'email,', 'shares', 'onboarding', 'documents,', 'schedules', 'a', 'kickoff', 'call,', 'and', 'adds', 'them', 'to', 'the', 'relevant', 'Slack/WhatsApp', 'group.', '3.', 'Social', 'Media', 'Content', 'Calendar', 'Generator', 'Description', ':', 'Pulls', 'content', 'trends', 'from', 'Twitter/Google', 'Trends,', 'auto-generates', 'posts,', 'and', 'schedules', 'them.', 'Tools', ':', 'Twitter', 'API,', 'OpenAI,', 'Airtable,', 'Instagram', 'API', '4.', 'Research', 'Paper', 'Finder', '&', 'Summarizer', 'Description', ':', 'User', 'enters', 'a', 'topic', '→', 'workflow', 'fetches', 'top', 'papers', 'from', 'ArXiv', '→', 'summaries', 'generated', 'by', 'GPT.', 'Tools', ':', 'ArXiv', 'API,', 'HTTP', 'request,', 'OpenAI,', 'Notion', '5.', 'Student', 'Performance', 'Monitor', 'Description', ':', 'Tracks', 'attendance,', 'assignment', 'scores,', 'and', 'auto-alerts', 'low', 'performers', 'to', 'teacher/parent.', 'Tools', ':', 'Google', 'Sheets,', 'Forms,', 'Twilio/WhatsApp,', 'Slack', '6.', 'Personal', 'Finance', 'Analyzer', 'Description', ':', 'Scans', 'bank', 'SMS/emails,', 'categorizes', 'expenses', 'using', 'GPT,', 'and', 'sends', 'weekly', 'insights.', 'Tools', ':', 'Email', 'parser,', 'OpenAI,', 'Google', 'Sheets,', 'Gmail', '7.', 'Daily', 'AI', 'Newsletter', 'Description', ':', 'Pulls', 'news', 'from', 'APIs,', 'summarizes', 'in', 'friendly', 'tone', 'using', 'OpenAI,', 'and', 'sends', 'daily', 'email.', 'Tools', ':', 'NewsAPI,', 'RSS,', 'OpenAI,', 'Mailchimp', '8.', 'Lead', 'Scoring', '&', 'CRM', 'Updater', 'Description', ':', 'Captures', 'leads', 'from', 'website', 'forms,', 'enriches', 'via', 'Clearbit', 'API,', 'scores', 'with', 'AI,', 'and', 'adds', 'to', 'CRM.', 'Tools', ':', 'Webhooks,', 'Clearbit,', 'OpenAI,', 'Notion/Airtable', '9.', 'Study', 'Plan', 'Generator', 'for', 'Students', 'Description', ':', 'Student', 'inputs', 'goals', '→', 'AI', 'creates', 'a', 'study', 'timetable', '→', 'sends', 'daily', 'tasks', 'on', 'WhatsApp.', 'Tools', ':', 'Forms,', 'OpenAI,', 'Google', 'Calendar,', 'WhatsApp', 'API', '10.', 'Internship', 'Alert', 'System', 'Description', ':', 'Monitors', 'internship', 'websites', 'like', 'Internshala,', 'filters', 'based', 'on', 'interests,', 'and', 'notifies', 'users.', 'Tools', ':', 'Web', 'scraper/RSS,', 'Google', 'Sheets,', 'Telegram', 'Bot', '11.', 'Personal', 'Brand', 'Manager', 'Description', ':', 'Monitors', 'user', 'LinkedIn/X', 'profile,', 'suggests', 'improvements', 'weekly', 'using', 'AI.', 'Tools', ':', 'LinkedIn', 'scraping,', 'OpenAI,', 'Notion', '12.', 'Feedback', 'Analyzer', 'Description', ':', 'Collects', 'customer/student', 'feedback,', 'performs', 'sentiment', 'analysis,', 'highlights', 'key', 'problems.', 'Tools', ':', 'Google', 'Form,', 'OpenAI,', 'Google', 'Sheets', '13.', 'AI-Powered', 'Health', 'Tracker', 'Description', ':', 'Users', 'upload', 'health', 'reports', '→', 'OCR', '+', 'GPT', 'summarizes', 'and', 'suggests', 'basic', 'health', 'advice.', 'Tools', ':', 'File', 'upload,', 'OCR,', 'OpenAI', '14.', 'Career', 'Guidance', 'System', 'Description', ':', 'Students', 'select', 'interests', '→', 'AI', 'suggests', 'career', 'paths,', 'courses,', 'and', 'mentors.', 'Tools', ':', 'Form', 'input,', 'OpenAI,', 'Google', 'Sheets,', 'Mail', '15.', 'Automated', 'Assignment', 'Evaluator', 'Description', ':', 'Students', 'submit', 'assignments', '→', 'plagiarism', 'check', '+', 'feedback', 'summary', 'via', 'OpenAI.', 'Tools', ':', 'File', 'upload,', 'OpenAI,', 'Google', 'Drive,', 'Email', 'Crewai', 'Project', 'Ideas', '1.', 'Personalized', 'Career', 'Coach', 'Agents', ':', 'Resume', 'Analyzer,', 'Skill', 'Matcher,', 'Job', 'Market', 'Scanner,', 'Career', 'Recommendation', 'Description', ':', 'Analyzes', 'resumes,', 'suggests', 'job', 'roles,', 'highlights', 'skill', 'gaps,', 'and', 'recommends', 'courses.', '2.', 'AI', 'Research', 'Paper', 'Companion', 'Agents', ':', 'Topic', 'Explainer,', 'Literature', 'Finder,', 'Gap', 'Analyzer', 'Description', ':', 'Summarizes', 'papers,', 'identifies', 'research', 'gaps,', 'and', 'suggests', 'outlines.', '3.', 'Automated', 'Interview', 'Simulator', 'Agents', ':', 'HR', 'Agent,', 'Tech', 'Interviewer,', 'Feedback', 'Generator', 'Description', ':', 'Simulates', 'interviews', 'and', 'provides', 'structured', 'AI-generated', 'feedback.', '4.', 'Local', 'News', 'Digest', 'AI', 'Agents', ':', 'Web', 'Scraper,', 'Summarizer,', 'Category', 'Classifier', 'Description', ':', 'Scrapes', 'local', 'news,', 'summarizes,', 'and', 'classifies', 'it', 'for', 'daily', 'newsletters.', '5.', 'Mental', 'Health', 'Support', 'Bot', 'Agents', ':', 'Mood', 'Analyzer,', 'Companion,', 'Self-Care', 'Recommender', 'Description', ':', 'Detects', 'mood', 'from', 'text', 'and', 'suggests', 'mental', 'wellness', 'activities.', '6.', 'Medical', 'Report', 'Analyzer', 'Agents', ':', 'OCR', 'Parser,', 'Health', 'Data', 'Interpreter,', 'Summary', 'Generator', 'Description', ':', 'Extracts', 'text', 'from', 'blood', 'reports', 'and', 'explains', 'the', 'results', 'simply.', '7.', 'Startup', 'Idea', 'Evaluator', 'Agents', ':', 'Problem', 'Validator,', 'Market', 'Researcher,', 'Business', 'Model', 'Builder,', 'Risk', 'Analyzer', 'Description', ':', 'Evaluates', 'startup', 'ideas', 'for', 'viability,', 'market', 'fit,', 'and', 'risks.', '8.', 'AI-Powered', 'Podcast', 'Generator', 'Agents', ':', 'Topic', 'Researcher,', 'Scriptwriter,', 'Voice', 'Synth', 'Agent', 'Description', ':', 'Generates', 'podcast', 'scripts', 'or', 'audio', 'from', 'trending', 'topics.', '9.', 'Auto', 'Grant/Proposal', 'Writer', 'Agents', ':', 'Requirement', 'Analyzer,', 'Writer', 'Agent,', 'Budget', 'Planner', 'Description', ':', 'Automates', 'the', 'creation', 'of', 'research', 'or', 'funding', 'proposals.', '10.', 'Digital', 'Marketing', 'Planner', 'Agents', ':', 'Audience', 'Profiler,', 'Content', 'Strategist,', 'Copywriter', 'Description', ':', 'Creates', 'a', 'marketing', 'strategy', 'with', 'posts,', 'keywords,', 'and', 'timelines.', '11.', 'E-Commerce', 'Store', 'Optimizer', 'Agents', ':', 'Product', 'Auditor,', 'Pricing', 'Optimizer,', 'SEO', 'Agent', 'Description', ':', 'Audits', 'eCommerce', 'sites', 'and', 'suggests', 'improvements.', '12.', 'Freelancer', 'Gig', 'Optimizer', 'Agents', ':', 'Profile', 'Analyzer,', 'Niche', 'Researcher,', 'Gig', 'Writer', 'Description', ':', 'Enhances', 'Fiverr/Upwork', 'profiles', 'and', 'generates', 'high-conversion', 'gigs.', '13.', 'YouTube', 'Channel', 'Manager', 'AI', 'Agents', ':', 'Trend', 'Analyzer,', 'Script', 'Generator,', 'SEO', 'Tagger', 'Description', ':', 'Suggests', 'content', 'ideas,', 'writes', 'scripts,', 'and', 'tags', 'videos.', '14.', 'Smart', 'Legal', 'Advisor', 'Agents', ':', 'Document', 'Extractor,', 'Clause', 'Analyzer,', 'Risk', 'Detector', 'Description', ':', 'Summarizes', 'legal', 'contracts', 'and', 'flags', 'important/risky', 'clauses.', '15.', 'Online', 'Course', 'Builder', 'Agents', ':', 'Curriculum', 'Designer,', 'Lesson', 'Planner,', 'Quiz', 'Generator', 'Description', ':', 'Creates', 'full', 'course', 'outlines,', 'lessons,', 'and', 'quizzes', 'from', 'a', 'topic.', '16.', 'Personal', 'Wikipedia', 'Builder', 'Agents', ':', 'Data', 'Extractor,', 'Summarizer,', 'Page', 'Formatter', 'Description', ':', 'Generates', 'Wikipedia-style', 'pages', 'using', 'scraped', 'or', 'input', 'data.', '17.', 'Product', 'Comparison', 'Bot', 'Agents', ':', 'Info', 'Extractor,', 'Comparator,', 'Recommender', 'Description', ':', 'Compares', 'two', 'products', 'and', 'recommends', 'the', 'best', 'based', 'on', 'features', 'and', 'reviews.', 'Openai-Agents', 'Project', 'Ideas', '1.', 'Autonomous', 'Browser', 'Search', 'Bot', 'Description', ':', 'User', 'inputs', 'a', 'query;', 'the', 'agent', 'launches', 'a', 'real', 'browser,', 'searches', 'Google,', 'extracts', 'top', 'results,', 'and', 'summarizes', 'them.', 'Components', ':', 'ComputerTool,', 'PlaywrightComputer,', 'web', 'scraping,', 'OpenAI', 'LLM.', '2.', 'Intelligent', 'Daily', 'Planner', 'Assistant', 'Description', ':', 'Takes', \"user's\", 'to-dos,', 'meetings,', 'habits,', 'and', 'goals', 'as', 'input', '(via', 'prompt', 'or', 'file),', 'and', 'auto-generates', 'a', 'personalized', 'daily', 'plan', 'including', 'time', 'blocks,', 'reminders,', 'and', 'focus', 'sessions.', 'It', 'can', 'open', 'calendar', 'apps,', 'set', 'reminders,', 'and', 'even', 'block', 'distracting', 'websites.', '3.', 'Voice', 'Command', 'Virtual', 'Assistant', 'Description', ':', 'User', 'speaks', 'commands', '→', 'transcribed', '→', 'Agent', 'interprets', 'and', 'performs', 'actions', 'like', 'opening', 'files,', 'sending', 'emails,', 'or', 'searching', 'online.', 'Components', ':', 'Speech-to-text,', 'Agent', '+', 'ComputerTool,', 'local', 'system', 'commands.', '4.', 'AI', 'Task', 'Automator', 'for', 'Students', 'Description', ':', 'Takes', 'homework', 'topics,', 'searches', 'online,', 'summarizes', 'content,', 'creates', 'presentations,', 'and', 'stores', 'them.', 'Components', ':', 'Browser', '+', 'File', 'system', 'access,', 'OpenAI', 'summarization,', 'slide', 'generator', '(e.g.,', 'Markdown', 'to', 'PPT).', '5.', 'Personal', 'Research', 'Assistant', 'Description', ':', 'Agent', 'takes', 'a', 'research', 'topic,', 'fetches', 'academic', 'papers,', 'summarizes', 'key', 'findings,', 'and', 'organizes', 'notes', 'in', 'folders.', 'Components', ':', 'Web', 'scraping', '(e.g.,', 'ArXiv,', 'Semantic', 'Scholar),', 'ComputerTool,', 'file', 'writing,', 'LLMs.', '6.', 'Email', 'Classifier', 'and', 'Responder', 'Description', ':', 'Agent', 'checks', 'emails,', 'classifies', 'them', '(urgent,', 'spam,', 'follow-up),', 'and', 'drafts', 'responses', 'using', 'OpenAI.', 'Components', ':', 'Gmail', 'API,', 'LLMs,', 'ComputerTool', 'for', 'local', 'scheduling', 'and', 'notifications.', '7.', 'Code', 'Debugging', 'Assistant', 'Description', ':', 'Uploads', 'a', 'script,', 'agent', 'runs', 'the', 'code,', 'captures', 'errors,', 'and', 'uses', 'GPT', 'to', 'suggest', 'corrections.', 'Components', ':', 'ComputerTool,', 'Python', 'execution,', 'error', 'parsing,', 'OpenAI.', '8.', 'Document', 'Comparator', 'Tool', 'Description', ':', 'Takes', 'two', 'docs', '(e.g.,', 'contract', 'versions),', 'highlights', 'changes,', 'and', 'summarizes', 'differences.', 'Components', ':', 'File', 'comparison', 'logic,', 'ComputerTool,', 'OpenAI', 'summarizer.', '9.', 'Data', 'Scraper', 'and', 'Visualizer', 'Description', ':', 'Enters', 'a', 'keyword', '→', 'agent', 'scrapes', 'related', 'data', 'from', 'multiple', 'sources', '→', 'creates', 'visual', 'graphs.', 'Components', ':', 'Playwright', 'or', 'HTTP', 'requests,', 'Pandas,', 'Matplotlib/Plotly,', 'OpenAI', 'for', 'insight', 'summary.', '10.', 'Intelligent', 'File', 'Organizer', 'Description', ':', 'Agent', 'scans', 'local', 'directories,', 'classifies', 'files', 'based', 'on', 'content/type,', 'and', 'organizes', 'into', 'folders.', 'Components', ':', 'File', 'system', 'access,', 'LLM', 'for', 'classification,', 'OS-level', 'file', 'operations.', '11.', 'Smart', 'Meeting', 'Scheduler', 'Description', ':', 'Parses', 'emails', 'or', 'user', 'prompts', 'for', 'dates,', 'books', 'meetings', 'across', 'platforms,', 'and', 'sends', 'reminders.', 'Components', ':', 'Google', 'Calendar', 'API,', 'OpenAI,', 'ComputerTool.', '12.', 'Custom', 'Chatbot', 'with', 'Real', 'Tool', 'Access', 'Description', ':', 'Chatbot', 'that', 'can', 'open', 'apps,', 'fetch', 'files,', 'run', 'scripts,', 'or', 'search', 'online', 'as', 'per', 'user', 'queries.', 'Components', ':', 'OpenAI', 'Agent,', 'ComputerTool,', 'system-level', 'automation.', '13.', 'Website', 'Auditor', 'Bot', 'Description', ':', 'Agent', 'visits', 'a', 'website,', 'checks', 'SEO', 'elements,', 'accessibility,', 'speed,', 'and', 'generates', 'a', 'report.', 'Components', ':', 'Browser', 'automation,', 'web', 'scraper,', 'OpenAI', 'summarizer.', '14.', 'Knowledge', 'Base', 'Updater', 'Description', ':', 'Scrapes', 'latest', 'articles', 'from', 'defined', 'URLs,', 'summarizes', 'content,', 'and', 'updates', 'a', 'Notion/Markdown', 'wiki.', 'Components', ':', 'Web', 'scraper,', 'OpenAI,', 'file', 'editor', 'or', 'Notion', 'API.', '15.', 'Financial', 'Data', 'Extractor', 'and', 'Reporter', 'Description', ':', 'Fetches', 'stock', 'or', 'crypto', 'prices,', 'visualizes', 'trends,', 'and', 'gives', 'recommendations', 'in', 'plain', 'English.', 'Components', ':', 'API', 'fetch,', 'Matplotlib,', 'OpenAI.']\n"
          ]
        }
      ]
    },
    {
      "cell_type": "markdown",
      "source": [
        "## Reading meta data"
      ],
      "metadata": {
        "id": "whOHz6UjopAG"
      }
    },
    {
      "cell_type": "code",
      "source": [
        "from pypdf import PdfReader\n",
        "\n",
        "reader = PdfReader(pdf_path)\n",
        "\n",
        "meta = reader.metadata\n",
        "\n",
        "# All the following could be None!\n",
        "print(meta.title)\n",
        "print(meta.author)\n",
        "print(meta.subject)\n",
        "print(meta.creator)\n",
        "print(meta.producer)\n",
        "print(meta.creation_date)\n",
        "print(meta.modification_date)"
      ],
      "metadata": {
        "colab": {
          "base_uri": "https://localhost:8080/"
        },
        "id": "iJqWiqc0ma-u",
        "outputId": "b3fffedd-31b1-4402-e1c7-6592ba2ba389"
      },
      "execution_count": 38,
      "outputs": [
        {
          "output_type": "stream",
          "name": "stdout",
          "text": [
            "Title\n",
            "Martin\n",
            "Subject\n",
            "Creator\n",
            "Libre Writer\n",
            "2025-08-12 04:57:34-05:00\n",
            "2025-08-12 04:57:34-05:00\n"
          ]
        }
      ]
    },
    {
      "cell_type": "code",
      "source": [],
      "metadata": {
        "id": "ziPX0a4eohkx"
      },
      "execution_count": null,
      "outputs": []
    },
    {
      "cell_type": "markdown",
      "source": [
        "## Writing meta data"
      ],
      "metadata": {
        "id": "jn4u9kzvosly"
      }
    },
    {
      "cell_type": "code",
      "source": [
        "from datetime import datetime\n",
        "from pypdf import PdfReader, PdfWriter\n",
        "\n",
        "reader = PdfReader(pdf_path)\n",
        "writer = PdfWriter()\n",
        "\n",
        "# Add all pages to the writer\n",
        "for page in reader.pages:\n",
        "    writer.add_page(page)\n",
        "\n",
        "# If you want to add the old metadata, include these two lines\n",
        "if reader.metadata is not None:\n",
        "    writer.add_metadata(reader.metadata)\n",
        "\n",
        "# Format the current date and time for the metadata\n",
        "utc_time = \"-05'00'\"  # UTC time optional\n",
        "time = datetime.now().strftime(f\"D\\072%Y%m%d%H%M%S{utc_time}\")\n",
        "\n",
        "# Add the new metadata\n",
        "writer.add_metadata(\n",
        "    {\n",
        "        \"/Author\": \"Murad Ahmed\",\n",
        "        \"/Producer\": \"Murad Writer\",\n",
        "        \"/Title\": \"Title\",\n",
        "        \"/Subject\": \"Murad Subject\",\n",
        "        \"/Keywords\": \"hello Keywords\",\n",
        "        \"/CreationDate\": time,\n",
        "        \"/ModDate\": time,\n",
        "        \"/Creator\": \"Creator\",\n",
        "        \"/CustomField\": \"CustomField\",\n",
        "    }\n",
        ")\n",
        "\n",
        "# Save the new PDF to a file\n",
        "with open(\"meta-pdf.pdf\", \"wb\") as f:\n",
        "    writer.write(f)\n"
      ],
      "metadata": {
        "id": "FB77v5aXou3F"
      },
      "execution_count": 40,
      "outputs": []
    },
    {
      "cell_type": "code",
      "source": [
        "# updated metadata read\n",
        "from pypdf import PdfReader\n",
        "\n",
        "reader = PdfReader(\"/content/meta-pdf.pdf\")\n",
        "\n",
        "meta = reader.metadata\n",
        "\n",
        "# All the following could be None!\n",
        "print(meta.title)\n",
        "print(meta.author)\n",
        "print(meta.subject)\n",
        "print(meta.creator)\n",
        "print(meta.producer)\n",
        "print(meta.creation_date)\n",
        "print(meta.modification_date)"
      ],
      "metadata": {
        "colab": {
          "base_uri": "https://localhost:8080/"
        },
        "id": "aLN2l9uFpAad",
        "outputId": "10c0e452-89d7-45bb-f1f7-b5cc413ed638"
      },
      "execution_count": 41,
      "outputs": [
        {
          "output_type": "stream",
          "name": "stdout",
          "text": [
            "Title\n",
            "Murad Ahmed\n",
            "Murad Subject\n",
            "Creator\n",
            "Murad Writer\n",
            "2025-08-12 04:59:30-05:00\n",
            "2025-08-12 04:59:30-05:00\n"
          ]
        }
      ]
    },
    {
      "cell_type": "markdown",
      "source": [
        "## to read text from *image*"
      ],
      "metadata": {
        "id": "Pg8LZg5zrtFe"
      }
    },
    {
      "cell_type": "code",
      "source": [
        "# tesseract images/eurotext.png - -l eng\n"
      ],
      "metadata": {
        "id": "3YCgDItuptpa"
      },
      "execution_count": 45,
      "outputs": []
    },
    {
      "cell_type": "code",
      "source": [],
      "metadata": {
        "id": "DHCyaVB-rcHb"
      },
      "execution_count": null,
      "outputs": []
    }
  ]
}